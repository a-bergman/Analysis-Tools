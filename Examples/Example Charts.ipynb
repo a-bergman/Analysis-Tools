{
 "cells": [
  {
   "cell_type": "markdown",
   "metadata": {},
   "source": [
    "## Imports"
   ]
  },
  {
   "cell_type": "code",
   "execution_count": null,
   "metadata": {},
   "outputs": [],
   "source": [
    "# Standard Imports\n",
    "import numpy              as np\n",
    "import pandas             as pd\n",
    "\n",
    "# Custom Modules\n",
    "import graphs\n",
    "import plotly_graphs      as pg\n",
    "\n",
    "# Notebook Appearance\n",
    "from IPython.core.display import display, HTML\n",
    "\n",
    "display(HTML(\"<style>.container { width:95% !important; }</style>\"))\n",
    "%matplotlib inline"
   ]
  },
  {
   "cell_type": "markdown",
   "metadata": {},
   "source": [
    "## Table Of Contents\n",
    "\n",
    "- [Continuous Data](#Continuous-Data)\n",
    "    - [Histograms](#Histograms)\n",
    "    - [2d Histogram](#2d-Histogram)\n",
    "    - [KDE Plots](#KDE-Plots)\n",
    "    - [Box Plots](#Box-Plots)\n",
    "    - [Violin Plots](#Violin-Plots)\n",
    "    - [Regression Plots](#Regression-Plots)\n",
    "    - [Heat Maps](#Heat-Maps)\n",
    "    - [Residual Plots](#Residual-Plots)\n",
    "    \n",
    "- [Categorical Data](#Categorical-Data)\n",
    "    - [Bar Plots](#Bar-Plots)\n",
    "        - [Bar Plot](#Bar-Plot)\n",
    "        - [Plotly Bar Chart](#Plotly-Bar-Chart)\n",
    "    - [Count Plots](#Count-Plots)\n",
    "    - [Categorical Box Plots](#Categorical-Box-Plots)\n",
    "    - [Categorical Violin Plots](#Categorical-Violin-Plots)\n",
    "    \n",
    "- [Utility Functions](#Utility-Functions)\n",
    "    - [Tables](#Tables)"
   ]
  },
  {
   "cell_type": "markdown",
   "metadata": {},
   "source": [
    "## Reading In The Data"
   ]
  },
  {
   "cell_type": "markdown",
   "metadata": {},
   "source": [
    "The data I will be using for these examples is the data I used for my capstone project at General Assembly: it is a dataset of MRI measurements from patients who have had heart attacks.  I will also be using a set of predictions from my capstone to illustrate the residual plots.\n",
    "\n",
    "The project can be found [here](https://github.com/a-bergman/DSI-Capstone)."
   ]
  },
  {
   "cell_type": "code",
   "execution_count": null,
   "metadata": {},
   "outputs": [],
   "source": [
    "heart = pd.read_csv(\"../Examples/Data/mri_cleaned.csv\")\n",
    "preds = pd.read_csv(\"../Examples/Data/engineered_model_predictions.csv\")"
   ]
  },
  {
   "cell_type": "markdown",
   "metadata": {},
   "source": [
    "## <center>Continuous Data</center>"
   ]
  },
  {
   "cell_type": "markdown",
   "metadata": {},
   "source": [
    "### Histograms"
   ]
  },
  {
   "cell_type": "markdown",
   "metadata": {},
   "source": [
    "A histogram looks at a single _numeric_ values: it counts the occurence of each value and thus plots the distribution of values in a data set.\n",
    "\n",
    "The red line indicates the mean of the distribution."
   ]
  },
  {
   "cell_type": "code",
   "execution_count": null,
   "metadata": {},
   "outputs": [],
   "source": [
    "graphs.histograms(df      = heart,\n",
    "                  columns = [\"lvedv\", \"lvesv\"],\n",
    "                  titles  = [\"End Diastolic Volume\", \"End Systolic Volume\"],\n",
    "                  labels  = [\"Volume In mL\", \"Volume In mL\"],\n",
    "                  ylabel  = \"Frequency\",\n",
    "                  ticks   = [np.arange(0,625,50), np.arange(0,525,50)],\n",
    "                  dim     = (18,8),\n",
    "                  row     = 2,\n",
    "                  col     = 2)"
   ]
  },
  {
   "cell_type": "markdown",
   "metadata": {},
   "source": [
    "### 2d Histogram"
   ]
  },
  {
   "cell_type": "markdown",
   "metadata": {},
   "source": [
    "A two dimensional histogram also looks at numeric data: it looks at two numeric columns and plots where the two variables overlap with a colormap.  This type of data works best with large data when you would otherwise need a large number of buckets."
   ]
  },
  {
   "cell_type": "code",
   "execution_count": null,
   "metadata": {},
   "outputs": [],
   "source": [
    "pg.histogram_2d(x      = \"age\",\n",
    "                y      = \"lvedv\",\n",
    "                df     = heart,\n",
    "                title  = \"Age & EDV\",\n",
    "                xlabel = \"Age\",\n",
    "                ylabel = \"EDV\",\n",
    "                xticks = np.arange(0,110,10),\n",
    "                yticks = np.arange(0,625,75))"
   ]
  },
  {
   "cell_type": "markdown",
   "metadata": {},
   "source": [
    "This chart will not display on GitHub because it does not support iframes: click [here](https://nbviewer.jupyter.org/github/a-bergman/Easy-Graphing/blob/master/Examples/Example%20Charts.ipynb#2d-Histogram) to view this graph."
   ]
  },
  {
   "cell_type": "markdown",
   "metadata": {},
   "source": [
    "### KDE Plots"
   ]
  },
  {
   "cell_type": "markdown",
   "metadata": {},
   "source": [
    "A KDE (kernel density estimate) is similar to a histogram, but is subtlely different.  A KDE plot estimates the probability density function for a continuous variable, but does not make an assumption about the underlying distribution of the data.  The graphs are smooth because they are making estimates, not plotting the actual values.\n",
    "\n",
    "More information can be found [here](https://en.wikipedia.org/wiki/Kernel_density_estimation)"
   ]
  },
  {
   "cell_type": "code",
   "execution_count": null,
   "metadata": {
    "scrolled": false
   },
   "outputs": [],
   "source": [
    "graphs.kdeplots(df     = heart,\n",
    "                cols   = [\"lvedv\", \"lvesv\"],\n",
    "                title  = \"End Diastolic & Systolic Volume\",\n",
    "                dim    = (14,7),\n",
    "                colors = [\"orange\", \"blue\"],\n",
    "                labels = [\"Diastolic\", \"Systolic\"],\n",
    "                xlabel = \"Volume In mL\",\n",
    "                ylabel = \"Probability\",\n",
    "                ticks  = np.arange(0,650,50))"
   ]
  },
  {
   "cell_type": "markdown",
   "metadata": {},
   "source": [
    "### Box Plots"
   ]
  },
  {
   "cell_type": "markdown",
   "metadata": {},
   "source": [
    "A box plot is another way of visualizing continuous data and are useful because they give a summary of the data: the bars on the plot give us the minimum, 25<sup>th</sup>, median, 75<sup>th</sup>, maximum, and any outliers are plotted as dots or points.  In addition to that summary, these plots are useful because they indicate the presence and degree of outliers."
   ]
  },
  {
   "cell_type": "code",
   "execution_count": null,
   "metadata": {},
   "outputs": [],
   "source": [
    "graphs.boxplots(df      = heart,\n",
    "                columns = [\"lvedv\", \"lvesv\"],\n",
    "                titles  = [\"End Diastolic Volume\", \"End Systolic Volume\"],\n",
    "                labels  = [\"Volume In mL\",  \"Volume In mL\", \"Percentage\"],\n",
    "                ticks   = [np.arange(0,650,50), np.arange(0,550,50)],\n",
    "                dim     = (18,8),\n",
    "                row     = 2,\n",
    "                col     = 2)"
   ]
  },
  {
   "cell_type": "markdown",
   "metadata": {},
   "source": [
    "[Top](#Table-Of-Contents)"
   ]
  },
  {
   "cell_type": "markdown",
   "metadata": {},
   "source": [
    "### Violin Plots"
   ]
  },
  {
   "cell_type": "markdown",
   "metadata": {},
   "source": [
    "A violin plot does the same as a box plot but it adds the probability density of the data on each side of the line.  This adds the benefit of showing the distribution of the data in relation to the five digit summary of the box plot."
   ]
  },
  {
   "cell_type": "code",
   "execution_count": null,
   "metadata": {},
   "outputs": [],
   "source": [
    "graphs.violinplots(df      = heart,\n",
    "                   columns = [\"lvedv\", \"lvesv\"],\n",
    "                   titles  = [\"End Diastolic Volume\", \"End Systolic Volume\"],\n",
    "                   labels  = [\"Volume In mL\", \"Volume In mL\"],\n",
    "                   ticks   = [np.arange(0,650,50), np.arange(0,550,50)],\n",
    "                   dim     = (18,8),\n",
    "                   row     = 2,\n",
    "                   col     = 2)"
   ]
  },
  {
   "cell_type": "markdown",
   "metadata": {},
   "source": [
    "### Regression Plots"
   ]
  },
  {
   "cell_type": "markdown",
   "metadata": {},
   "source": [
    "A scatter plot is a way of correlation the relationship between two continuous variables, usually the target variable and a feature in the model and in doing so we can determine if our variables have a linear relationship which is important for many modeling techniques.\n",
    "\n",
    "A regression plot is the same but it adds a line of best fit to the data which makes visualizing the correlation between two variables easier."
   ]
  },
  {
   "cell_type": "code",
   "execution_count": null,
   "metadata": {},
   "outputs": [],
   "source": [
    "graphs.regressionplots(df      = heart,\n",
    "                       columns = [\"lvesv\", \"lvef\"],\n",
    "                       y       = \"lvedv\",\n",
    "                       titles  = [\"ESV\", \"EF\"],\n",
    "                       labels  = [\"Systolic Volume (mL)\", \"Fraction\"],\n",
    "                       ylabel  = \"Diastolic Volume (mL)\",\n",
    "                       ticks   = [np.arange(0,550,50), np.arange(0,100,10)],\n",
    "                       dim     = (18,8),\n",
    "                       row     = 2,\n",
    "                       col     = 2,)"
   ]
  },
  {
   "cell_type": "markdown",
   "metadata": {},
   "source": [
    "[Top](#Table-Of-Contents)"
   ]
  },
  {
   "cell_type": "markdown",
   "metadata": {},
   "source": [
    "### Heat Maps"
   ]
  },
  {
   "cell_type": "markdown",
   "metadata": {},
   "source": [
    "A heat map shows the correlation between continuous variables in a shaded matrix.\n",
    "\n",
    "In this function, the matrix is \"split\" meaning that it does not duplicate each correlation across the diagonal and does not indicate the correlation between identical variables."
   ]
  },
  {
   "cell_type": "code",
   "execution_count": null,
   "metadata": {},
   "outputs": [],
   "source": [
    "graphs.heatmap(df      = heart,\n",
    "               columns = [\"age\", \"lvedv\",\"lvesv\", \"lvef\"],\n",
    "               dim     = (10,10),\n",
    "               title   = \"Correlations Among Numeric Columns\",\n",
    "               vmin    = -1,\n",
    "               vmax    = 1)"
   ]
  },
  {
   "cell_type": "markdown",
   "metadata": {},
   "source": [
    "### Residual Plots"
   ]
  },
  {
   "cell_type": "markdown",
   "metadata": {},
   "source": [
    "Residual plots are generated after generating predictions with a model and represents the difference between each predicted and generated value.  These graphs are used to detect heteroscedasticity in the residuals, i.e. if there is a pattern to the residuals: a pattern indicates that a model is not performing equally across all data.  This is a particular concern in linear regression because it indicates that one of the assumptions in linear regression, independence of errors, is being violated.\n",
    "\n",
    "For each plot this function makes, the x-axis represents true values and the y-axis represents predicted values."
   ]
  },
  {
   "cell_type": "code",
   "execution_count": null,
   "metadata": {},
   "outputs": [],
   "source": [
    "graphs.residualplots(df      = preds,\n",
    "                     x       = \"Actual\",\n",
    "                     columns = [\"Random Forest Reg.\", \"XGBoost Reg.\"],\n",
    "                     titles  = [\"Random Forest Reg.\", \"XGBoost Reg.\"],\n",
    "                     dim     = (18,8),\n",
    "                     row     = 2,\n",
    "                     col     = 3,\n",
    "                     xlabel  = \"Actual\",\n",
    "                     ylabel  = \"Predicted\")"
   ]
  },
  {
   "cell_type": "markdown",
   "metadata": {},
   "source": [
    "[Top](#Table-Of-Contents)"
   ]
  },
  {
   "cell_type": "markdown",
   "metadata": {},
   "source": [
    "## <center>Categorical Data</center>"
   ]
  },
  {
   "cell_type": "markdown",
   "metadata": {},
   "source": [
    "### Bar Plots"
   ]
  },
  {
   "cell_type": "markdown",
   "metadata": {},
   "source": [
    "A Seaborn bar plot returns a measure of central tendency, by default the mean, of a categorical variable which is why it requires an x and y variable.\n",
    "\n",
    "For a more classic bar plot, use the `countplots` function."
   ]
  },
  {
   "cell_type": "code",
   "execution_count": null,
   "metadata": {
    "scrolled": false
   },
   "outputs": [],
   "source": [
    "graphs.barplots(df      = heart,\n",
    "                columns = [\"aortic_reg\", \"mitral_reg\"],\n",
    "                y       = \"lvedv\",\n",
    "                labels  = [\"Severity\", \"Severity\"],\n",
    "                ylabel  = \"End Diastolic Volume\",\n",
    "                titles  = [\"Aortic Regurgitation\", \"Mitral Regurgitation\"],\n",
    "                dim     = (18,8),\n",
    "                row     = 2,\n",
    "                col     = 2)"
   ]
  },
  {
   "cell_type": "markdown",
   "metadata": {},
   "source": [
    "The same graphs as above, but with the `hue` parameter included.\n",
    "\n",
    "Here `0` is female and `1` is male."
   ]
  },
  {
   "cell_type": "code",
   "execution_count": null,
   "metadata": {},
   "outputs": [],
   "source": [
    "graphs.barplots(df      = heart,\n",
    "                columns = [\"aortic_reg\", \"mitral_reg\"],\n",
    "                y       = \"lvedv\",\n",
    "                labels  = [\"Severity\", \"Severity\"],\n",
    "                ylabel  = \"End Diastolic Volume\",\n",
    "                hue     = \"sex\",\n",
    "                titles  = [\"Aortic Regurgitation\", \"Mitral Regurgitation\"],\n",
    "                dim     = (18,8),\n",
    "                row     = 2,\n",
    "                col     = 2)"
   ]
  },
  {
   "cell_type": "markdown",
   "metadata": {},
   "source": [
    "#### Bar Plot"
   ]
  },
  {
   "cell_type": "markdown",
   "metadata": {},
   "source": [
    "Same as the above, but only creates a single bar plot."
   ]
  },
  {
   "cell_type": "code",
   "execution_count": null,
   "metadata": {},
   "outputs": [],
   "source": [
    "graphs.barplot(df     = heart,\n",
    "               x      = \"tricusp_reg\",\n",
    "               y      = \"lvesv\",\n",
    "               title  = \"Tricuspid Regurgitation\",\n",
    "               label  = \"Severity\",\n",
    "               ylabel = \"Systolic Volume\",\n",
    "               ticks  = np.arange(0,175,25),\n",
    "               dim    = (10,5))"
   ]
  },
  {
   "cell_type": "markdown",
   "metadata": {},
   "source": [
    "The same graph as above with the `hue` parameter included."
   ]
  },
  {
   "cell_type": "code",
   "execution_count": null,
   "metadata": {},
   "outputs": [],
   "source": [
    "graphs.barplot(df     = heart,\n",
    "               x      = \"tricusp_reg\",\n",
    "               y      = \"lvesv\",\n",
    "               hue    = \"sex\",\n",
    "               title  = \"Tricuspid Regurgitation\",\n",
    "               label  = \"Severity\",\n",
    "               ylabel = \"Systolic Volume\",\n",
    "               ticks  = np.arange(0,175,25),\n",
    "               dim    = (10,5))"
   ]
  },
  {
   "cell_type": "markdown",
   "metadata": {},
   "source": [
    "#### Plotly Bar Chart"
   ]
  },
  {
   "cell_type": "markdown",
   "metadata": {},
   "source": [
    "There is another function to create a bar chart through Plotly: it generates a true bar chart, equivalent to `countplots` in Seaborn."
   ]
  },
  {
   "cell_type": "code",
   "execution_count": null,
   "metadata": {},
   "outputs": [],
   "source": [
    "pg.bar_chart(df     = heart,\n",
    "             col    = \"tricusp_reg\",\n",
    "             widths = [0.75, 0.75, 0.75, 0.75,\n",
    "                       0.75, 0.75, 0.75],\n",
    "             width  = 750,\n",
    "             height = 500,\n",
    "             title  = \"Severity Of Tricuspid Regurgitation\",\n",
    "             xlabel = \"Severity\",\n",
    "             ticks  = np.arange(0,3500,500),\n",
    "             text_pos = \"none\")"
   ]
  },
  {
   "cell_type": "markdown",
   "metadata": {},
   "source": [
    "This chart will not display on GitHub because it does not support iframes: click [here](https://nbviewer.jupyter.org/github/a-bergman/Easy-Graphing/blob/master/Examples/Example%20Charts.ipynb) to view this graph."
   ]
  },
  {
   "cell_type": "markdown",
   "metadata": {},
   "source": [
    "[Top](#Table-Of-Contents)"
   ]
  },
  {
   "cell_type": "markdown",
   "metadata": {},
   "source": [
    "### Count Plots"
   ]
  },
  {
   "cell_type": "markdown",
   "metadata": {},
   "source": [
    "The count plot is simpler because it counts the frequency of a category in a data set."
   ]
  },
  {
   "cell_type": "code",
   "execution_count": null,
   "metadata": {},
   "outputs": [],
   "source": [
    "graphs.countplots(df      = heart,\n",
    "                  columns = [\"aortic_reg\", \"mitral_reg\"],\n",
    "                  titles  = [\"Aortic Regurgitation\", \"Mitral Regurgitation\"],\n",
    "                  labels  = [\"Severity\", \"Severity\"],\n",
    "                  ylabel  = \"Count\",\n",
    "                  dim     = (18,8),\n",
    "                  row     = 2,\n",
    "                  col     = 2)"
   ]
  },
  {
   "cell_type": "markdown",
   "metadata": {},
   "source": [
    "The same as above but with `hue` included."
   ]
  },
  {
   "cell_type": "code",
   "execution_count": null,
   "metadata": {},
   "outputs": [],
   "source": [
    "graphs.countplots(df      = heart,\n",
    "                  columns = [\"aortic_reg\"],\n",
    "                  titles  = [\"Aortic Regurgitation\"],\n",
    "                  labels  = [\"Severity\"],\n",
    "                  hue     = \"sex\",\n",
    "                  ylabel  = \"Count\",\n",
    "                  dim     = (18,8),\n",
    "                  row     = 2,\n",
    "                  col     = 2)"
   ]
  },
  {
   "cell_type": "markdown",
   "metadata": {},
   "source": [
    "[Top](#Table-Of-Contents)"
   ]
  },
  {
   "cell_type": "markdown",
   "metadata": {},
   "source": [
    "### Categorical Box Plots"
   ]
  },
  {
   "cell_type": "markdown",
   "metadata": {},
   "source": [
    "A categorical box plot is a modified box plot that uses a categorical variable as its x-axis.  Thus it returns a box plot summary of data for each category."
   ]
  },
  {
   "cell_type": "code",
   "execution_count": null,
   "metadata": {},
   "outputs": [],
   "source": [
    "graphs.categorical_boxplots(df      = heart,\n",
    "                            x       = \"aortic_stenosis\",\n",
    "                            columns = [\"lvedv\", \"lvesv\"],\n",
    "                            titles  = [\"End Diastolic Volume\", \"End Systolic Volume\"],\n",
    "                            labels  = [\"Severity\", \"Severity\"],\n",
    "                            ylabels = [\"Volume\", \"Volume\"],\n",
    "                            ticks   = [np.arange(0,650,50), np.arange(0,550,50)],\n",
    "                            dim     = (18,12),\n",
    "                            row     = 2,\n",
    "                            col     = 2,\n",
    "                            orient  = \"v\")"
   ]
  },
  {
   "cell_type": "markdown",
   "metadata": {},
   "source": [
    "Same as the above graph but with the hue option included."
   ]
  },
  {
   "cell_type": "code",
   "execution_count": null,
   "metadata": {},
   "outputs": [],
   "source": [
    "graphs.categorical_boxplots(df      = heart,\n",
    "                            x       = \"aortic_stenosis\",\n",
    "                            columns = [\"lvedv\"],\n",
    "                            hue     = \"sex\",\n",
    "                            titles  = [\"End Diastolic Volume\"],\n",
    "                            labels  = [\"Severity\"],\n",
    "                            ylabels = [\"Volume\"],\n",
    "                            ticks   = [np.arange(0,650,50)],\n",
    "                            dim     = (12,6),\n",
    "                            row     = 1,\n",
    "                            col     = 1,\n",
    "                            orient  = \"v\")"
   ]
  },
  {
   "cell_type": "markdown",
   "metadata": {},
   "source": [
    "[Top](#Table-Of-Contents)"
   ]
  },
  {
   "cell_type": "markdown",
   "metadata": {},
   "source": [
    "### Categorical Violin Plots"
   ]
  },
  {
   "cell_type": "markdown",
   "metadata": {},
   "source": [
    "A categorical violin plot is a modified violin plot that uses a categorical variable as its x-axis.  Thus it returns a violin plot summary of data for each category."
   ]
  },
  {
   "cell_type": "code",
   "execution_count": null,
   "metadata": {},
   "outputs": [],
   "source": [
    "graphs.categorical_violinplots(df = heart,\n",
    "                               x  = \"aortic_stenosis\",\n",
    "                               columns = [\"age\"],\n",
    "                               titles  = [\"Age\"],\n",
    "                               labels  = [\"Age\"],\n",
    "                               ylabels = [\"Years\"],\n",
    "                               ticks   = [np.arange(0,110,100)],\n",
    "                               dim     = (16,8),\n",
    "                               row     = 1,\n",
    "                               col     = 1)"
   ]
  },
  {
   "cell_type": "code",
   "execution_count": null,
   "metadata": {},
   "outputs": [],
   "source": [
    "graphs.categorical_violinplots(df      = heart,\n",
    "                               x       = \"aortic_stenosis\",\n",
    "                               columns = [\"age\", \"lvef\"],\n",
    "                               titles  = [\"Age\", \"Ejection Fraction\"],\n",
    "                               labels  = [\"Severity\", \"Severity\"],\n",
    "                               ylabels = [\"Years\", \"Percentage\"],\n",
    "                               ticks   = [np.arange(0,110,10), np.arange(0,100,10)],\n",
    "                               dim     = (18,12),\n",
    "                               row     = 2,\n",
    "                               col     = 2)"
   ]
  },
  {
   "cell_type": "markdown",
   "metadata": {},
   "source": [
    "Same as the above graph, but with a hue specified."
   ]
  },
  {
   "cell_type": "code",
   "execution_count": null,
   "metadata": {},
   "outputs": [],
   "source": [
    "graphs.categorical_violinplots(df      = heart,\n",
    "                               x       = \"aortic_stenosis\",\n",
    "                               columns = [\"age\"],\n",
    "                               hue     = \"sex\",\n",
    "                               titles  = [\"Age\"],\n",
    "                               labels  = [\"Severity\"],\n",
    "                               ylabels = [\"Years\"],\n",
    "                               ticks   = [np.arange(0,110,10)],\n",
    "                               dim     = (12,6),\n",
    "                               row     = 1,\n",
    "                               col     = 1)"
   ]
  },
  {
   "cell_type": "markdown",
   "metadata": {},
   "source": [
    "Same as the above graph, but with a hue and split specified."
   ]
  },
  {
   "cell_type": "code",
   "execution_count": null,
   "metadata": {},
   "outputs": [],
   "source": [
    "graphs.categorical_violinplots(df      = heart,\n",
    "                               x       = \"aortic_stenosis\",\n",
    "                               columns = [\"age\"],\n",
    "                               hue     = \"sex\",\n",
    "                               titles  = [\"Age\"],\n",
    "                               labels  = [\"Severity\"],\n",
    "                               ylabels = [\"Years\"],\n",
    "                               ticks   = [np.arange(0,110,10)],\n",
    "                               dim     = (12,6),\n",
    "                               row     = 1,\n",
    "                               col     = 1,\n",
    "                               split   = True)"
   ]
  },
  {
   "cell_type": "markdown",
   "metadata": {},
   "source": [
    "[Top](#Table-Of-Contents)"
   ]
  },
  {
   "cell_type": "markdown",
   "metadata": {},
   "source": [
    "## <center>Utility Functions</center>"
   ]
  },
  {
   "cell_type": "markdown",
   "metadata": {},
   "source": [
    "### Tables"
   ]
  },
  {
   "cell_type": "markdown",
   "metadata": {},
   "source": [
    "Plotly contains a function to create tables which are easy to save as a .png & distribute."
   ]
  },
  {
   "cell_type": "code",
   "execution_count": null,
   "metadata": {},
   "outputs": [],
   "source": [
    "pg.table(h_values = [\"Actual Values\", \"Random Forest Reg.\", \n",
    "                     \"XGBoost Reg.\"],\n",
    "         c_values = [preds[\"Actual\"].head(10), preds[\"Random Forest Reg.\"].head(10),\n",
    "                     preds[\"XGBoost Reg.\"].head(10)],\n",
    "         width    = 750)"
   ]
  },
  {
   "cell_type": "markdown",
   "metadata": {},
   "source": [
    "[Top](#Table-Of-Contents)"
   ]
  }
 ],
 "metadata": {
  "kernelspec": {
   "display_name": "Python 3",
   "language": "python",
   "name": "python3"
  },
  "language_info": {
   "codemirror_mode": {
    "name": "ipython",
    "version": 3
   },
   "file_extension": ".py",
   "mimetype": "text/x-python",
   "name": "python",
   "nbconvert_exporter": "python",
   "pygments_lexer": "ipython3",
   "version": "3.6.8"
  }
 },
 "nbformat": 4,
 "nbformat_minor": 2
}
